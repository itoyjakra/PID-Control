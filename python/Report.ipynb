{
 "cells": [
  {
   "cell_type": "markdown",
   "metadata": {},
   "source": [
    "The steering angle of the vehicle is calculated as a linear combination of the cross track error (CTE), the differential of the cross track error and the accumulated cross track error. The coefficients are negative to produce a correction to the steering angle to achieve zero cross track error."
   ]
  },
  {
   "cell_type": "markdown",
   "metadata": {},
   "source": [
    "The effect of the different components is best understood from the following figure. The red line is the reference the vehicle is trying to follow. With just the proportional (P) control, the vehicle will oscillate around the target line, which in this case is shifted from the red line because of a steering bias. To control the inertia of the vehicle, the differential (D) control is used, which reduces the amount of steering correction the smaller the CTE is. The steering bias is handled by the integral (I) control that accumulates the CTE."
   ]
  },
  {
   "cell_type": "markdown",
   "metadata": {},
   "source": [
    "![title](PID.png)"
   ]
  },
  {
   "cell_type": "markdown",
   "metadata": {},
   "source": [
    "The coefficients for the P, I and D control used in the model are $k_p$, $k_i$ and $k_d$ respectively.\n",
    "The vehicle in the simulator has no visible steering bias and therefore a very small or zero value of $k_i$ is sufficient.\n",
    "    The value of $k_p$ is slowly increased to keep the vehicle on track for the relatively straight part of the track. However, pretty quickly it will start oscillating around the center of the track with increasing magnitude. The value of $k_d$ is slowly increased to reduce the oscillation. However, a very high value of $k_d$ will create severe problem at the sharp bends in the track because it will restrict the steering to turn to sharply."
   ]
  },
  {
   "cell_type": "markdown",
   "metadata": {},
   "source": [
    "At low enough speeds this is all that is required to go through the entire track. However, to go round the track as fast as possible, controlling the steering angle is not enough. Another PID controller is used to achieve the optimal throttle value that takes the steering angle as the input. The basic idea is to go as close to a target throttle value when possible but reduce the throttle proportional to the steering angle when the vehicle is turning. The maximum throttle is achieved by trial and error and set to the highest possible value that allows the vehicle to stay on track."
   ]
  },
  {
   "cell_type": "markdown",
   "metadata": {},
   "source": [
    "The steering angle in the first PID controller is made a function of the speed of the vehicle to make sure the vehicle is not allowed to make large changes in the steering angle at higher speeds."
   ]
  },
  {
   "cell_type": "code",
   "execution_count": null,
   "metadata": {
    "collapsed": true
   },
   "outputs": [],
   "source": []
  }
 ],
 "metadata": {
  "anaconda-cloud": {},
  "kernelspec": {
   "display_name": "Python [conda root]",
   "language": "python",
   "name": "conda-root-py"
  },
  "language_info": {
   "codemirror_mode": {
    "name": "ipython",
    "version": 3
   },
   "file_extension": ".py",
   "mimetype": "text/x-python",
   "name": "python",
   "nbconvert_exporter": "python",
   "pygments_lexer": "ipython3",
   "version": "3.5.2"
  }
 },
 "nbformat": 4,
 "nbformat_minor": 2
}
